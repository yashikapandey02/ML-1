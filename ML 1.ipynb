{
 "cells": [
  {
   "cell_type": "code",
   "execution_count": null,
   "id": "94f560ab",
   "metadata": {},
   "outputs": [],
   "source": [
    "1. What does one mean by the term &quot;machine learning&quot;?"
   ]
  },
  {
   "cell_type": "code",
   "execution_count": null,
   "id": "422528f9",
   "metadata": {},
   "outputs": [],
   "source": [
    "Ans:Machine Learning is about building systems that can learn from data. Learning means getting better at some task,\n",
    "given some performance measure."
   ]
  },
  {
   "cell_type": "code",
   "execution_count": null,
   "id": "d56206d8",
   "metadata": {},
   "outputs": [],
   "source": [
    "2.Can you think of 4 distinct types of issues where it shines?"
   ]
  },
  {
   "cell_type": "code",
   "execution_count": null,
   "id": "a3892cf2",
   "metadata": {},
   "outputs": [],
   "source": [
    "Ans:Machine Learning is great for complex problems for which we have no algorithmic solution, to replace long lists of \n",
    "    hand-tuned rules, to build systems that adapt to fluctuating environments, and finally to help humans learn \n",
    "    (e.g., data mining)."
   ]
  },
  {
   "cell_type": "code",
   "execution_count": null,
   "id": "1516bebe",
   "metadata": {},
   "outputs": [],
   "source": [
    "3.What is a labeled training set, and how does it work?"
   ]
  },
  {
   "cell_type": "code",
   "execution_count": null,
   "id": "85df8f77",
   "metadata": {},
   "outputs": [],
   "source": [
    "Ans:A labeled training set is a training set that contains the desired solution (a.k.a. a label) for each instance.\n"
   ]
  },
  {
   "cell_type": "code",
   "execution_count": null,
   "id": "cd3c8b61",
   "metadata": {},
   "outputs": [],
   "source": [
    "4.What are the two most important tasks that are supervised?"
   ]
  },
  {
   "cell_type": "code",
   "execution_count": null,
   "id": "e0da50a0",
   "metadata": {},
   "outputs": [],
   "source": [
    "Ans: The two most common supervised tasks are regression and classification."
   ]
  },
  {
   "cell_type": "code",
   "execution_count": null,
   "id": "0d2b5cdf",
   "metadata": {},
   "outputs": [],
   "source": [
    "5.Can you think of four examples of unsupervised tasks?"
   ]
  },
  {
   "cell_type": "code",
   "execution_count": null,
   "id": "a8e99ed3",
   "metadata": {},
   "outputs": [],
   "source": [
    "Ans:Common unsupervised tasks include clustering, visualization, dimensionality reduction, and association rule learning."
   ]
  },
  {
   "cell_type": "code",
   "execution_count": null,
   "id": "9e6cbe30",
   "metadata": {},
   "outputs": [],
   "source": [
    "6.State the machine learning model that would be best to make a robot walk through various unfamiliar terrains?"
   ]
  },
  {
   "cell_type": "code",
   "execution_count": null,
   "id": "0f8abd36",
   "metadata": {},
   "outputs": [],
   "source": []
  },
  {
   "cell_type": "code",
   "execution_count": null,
   "id": "13b82d39",
   "metadata": {},
   "outputs": [],
   "source": [
    "Ans:Reinforcement Learning is likely to perform best if we want a robot to learn to walk in various unknown terrains, since this is typically the type of problem that Reinforcement Learning tackles. \n",
    "    It might be possible to express the problem as a supervised or semisupervised learning problem, but it would be less natural.\n",
    "    "
   ]
  },
  {
   "cell_type": "code",
   "execution_count": null,
   "id": "eb9af13b",
   "metadata": {},
   "outputs": [],
   "source": [
    "7.Which algorithm will you use to divide your customers into different groups?"
   ]
  },
  {
   "cell_type": "code",
   "execution_count": null,
   "id": "5052318f",
   "metadata": {},
   "outputs": [],
   "source": [
    "Ans:If you don’t know how to define the groups, then you can use a clustering algorithm (unsupervised learning) to segment your\n",
    "    customers into clusters of similar customers. However, if you know what groups you would like to have, then you can feed \n",
    "    many examples of each group to a classification algorithm (supervised learning), and it will classify all your customers \n",
    "    into these groups."
   ]
  },
  {
   "cell_type": "code",
   "execution_count": null,
   "id": "0e486ef9",
   "metadata": {},
   "outputs": [],
   "source": [
    "8.Will you consider the problem of spam detection to be a supervised or unsupervised learning problem?"
   ]
  },
  {
   "cell_type": "code",
   "execution_count": null,
   "id": "5a0391b2",
   "metadata": {},
   "outputs": [],
   "source": [
    "Ans:Spam detection is a typical supervised learning problem: the algorithm is fed many emails along with their labels \n",
    "    (spam or not spam)."
   ]
  },
  {
   "cell_type": "code",
   "execution_count": null,
   "id": "b64e0d2c",
   "metadata": {},
   "outputs": [],
   "source": [
    "9.What is the concept of an online learning system?"
   ]
  },
  {
   "cell_type": "code",
   "execution_count": null,
   "id": "766c4c2c",
   "metadata": {},
   "outputs": [],
   "source": [
    "Ans:An online learning system can learn incrementally, as opposed to a batch learning system. This makes it capable of adapting\n",
    "    rapidly to both changing data and autonomous systems, and of training on very large quantities of data.\n"
   ]
  },
  {
   "cell_type": "code",
   "execution_count": null,
   "id": "fcccd0f3",
   "metadata": {},
   "outputs": [],
   "source": [
    "10.What is out-of-core learning, and how does it differ from core learning?"
   ]
  },
  {
   "cell_type": "code",
   "execution_count": null,
   "id": "de26aaa1",
   "metadata": {},
   "outputs": [],
   "source": [
    "Ans:Out-of-core algorithms can handle vast quantities of data that cannot fit in a computer’s main memory. An out-of-core \n",
    "    learning algorithm chops the data into mini-batches and uses online learning techniques to learn from these mini-batches."
   ]
  },
  {
   "cell_type": "code",
   "execution_count": null,
   "id": "a23f6099",
   "metadata": {},
   "outputs": [],
   "source": []
  },
  {
   "cell_type": "code",
   "execution_count": null,
   "id": "ed078648",
   "metadata": {},
   "outputs": [],
   "source": [
    "11.What kind of learning algorithm makes predictions using a similarity measure?"
   ]
  },
  {
   "cell_type": "code",
   "execution_count": null,
   "id": "f22a8881",
   "metadata": {},
   "outputs": [],
   "source": [
    "Ans:An instance-based learning system learns the training data by heart; then, when given a new instance, it uses a similarity\n",
    "    measure to find the most similar learned instances and uses them to make predictions"
   ]
  },
  {
   "cell_type": "code",
   "execution_count": null,
   "id": "687904f4",
   "metadata": {},
   "outputs": [],
   "source": [
    "12.What's the difference between a model parameter and a hyperparameter in a learning algorithm?"
   ]
  },
  {
   "cell_type": "code",
   "execution_count": null,
   "id": "dd9f738c",
   "metadata": {},
   "outputs": [],
   "source": [
    "Ans:A model has one or more model parameters that determine what it will predict given a new instance \n",
    "    (e.g., the slope of a linear model). A learning algorithm tries to find optimal values for these parameters \n",
    "    such that the model generalizes well to new instances. A hyperparameter is a parameter of the learning algorithm itself,\n",
    "    not of the model (e.g., the amount of regularization to apply)."
   ]
  },
  {
   "cell_type": "code",
   "execution_count": null,
   "id": "1ebb7b0d",
   "metadata": {},
   "outputs": [],
   "source": [
    "13.What are the criteria that model-based learning algorithms look for? What is the most popular method they use to achieve \n",
    "success? What method do they use to make predictions?"
   ]
  },
  {
   "cell_type": "code",
   "execution_count": null,
   "id": "7b458d5b",
   "metadata": {},
   "outputs": [],
   "source": [
    "Ans:Model-based learning algorithms search for an optimal value for the model parameters such that the model will generalize \n",
    "    well to new instances. We usually train such systems by minimizing a cost function that measures how bad the system is at \n",
    "    making predictions on the training data, plus a penalty for model complexity if the model is regularized. To make \n",
    "    predictions, we feed the new instance’s features into the model’s prediction function, using the parameter values found by\n",
    "    the learning algorithm."
   ]
  },
  {
   "cell_type": "code",
   "execution_count": null,
   "id": "33f24de1",
   "metadata": {},
   "outputs": [],
   "source": [
    "14.Can you name four of the most important Machine Learning challenges?"
   ]
  },
  {
   "cell_type": "code",
   "execution_count": null,
   "id": "0e541fd0",
   "metadata": {},
   "outputs": [],
   "source": [
    "Ans:Some of the main challenges in Machine Learning are the lack of data, poor data quality, nonrepresentative data, \n",
    "    uninformative features, excessively simple models that underfit the training data, and excessively complex models that\n",
    "    overfit the data.\n"
   ]
  },
  {
   "cell_type": "code",
   "execution_count": null,
   "id": "bcfcf552",
   "metadata": {},
   "outputs": [],
   "source": [
    "15.What happens if the model performs well on the training data but fails to generalize the results to new situations? \n",
    "Can you think of three different options?"
   ]
  },
  {
   "cell_type": "code",
   "execution_count": null,
   "id": "411ae249",
   "metadata": {},
   "outputs": [],
   "source": [
    "Ans:If a model performs great on the training data but generalizes poorly to new instances, the model is likely overfitting the\n",
    "    training data (or we got extremely lucky on the training data). Possible solutions to overfitting are getting more data, \n",
    "    simplifying the model (selecting a simpler algorithm, reducing the number of parameters or features used, or regularizing \n",
    "    the model), or reducing the noise in the training data."
   ]
  },
  {
   "cell_type": "code",
   "execution_count": null,
   "id": "18babe93",
   "metadata": {},
   "outputs": [],
   "source": [
    "16.What exactly is a test set, and why would you need one?"
   ]
  },
  {
   "cell_type": "code",
   "execution_count": null,
   "id": "427f7738",
   "metadata": {},
   "outputs": [],
   "source": [
    "Ans:A test set is used to estimate the generalization error that a model will make on new instances, before the model is\n",
    "    launched in production."
   ]
  },
  {
   "cell_type": "code",
   "execution_count": null,
   "id": "6b4d065d",
   "metadata": {},
   "outputs": [],
   "source": [
    "17.What is a validation set's purpose?"
   ]
  },
  {
   "cell_type": "code",
   "execution_count": null,
   "id": "d6981ff1",
   "metadata": {},
   "outputs": [],
   "source": [
    "Ans:A validation set is used to compare models. It makes it possible to select the best model and tune the hyperparameters."
   ]
  },
  {
   "cell_type": "code",
   "execution_count": null,
   "id": "a7be6345",
   "metadata": {},
   "outputs": [],
   "source": [
    "18.What precisely is the train-dev kit, when will you need it, how do you put it to use?"
   ]
  },
  {
   "cell_type": "code",
   "execution_count": null,
   "id": "3e485365",
   "metadata": {},
   "outputs": [],
   "source": [
    "The train-dev set is used when there is a risk of mismatch between the training data and the data used in the validation and\n",
    "test datasets (which should always be as close as possible to the data used once the model is in production). \n",
    "The train-dev set is a part of the training set that’s held out (the model is not trained on it). The model is trained on the \n",
    "rest of the training set, and evaluated on both the train-dev set and the validation set. If the model performs well on the \n",
    "training set but not on the train-dev set, then the model is likely overfitting the training set. If it performs well on both \n",
    "the training set and the train-dev set, but not on the validation set, then there is probably a significant data mismatch \n",
    "between the training data and the validation + test data, and you should try to improve the training data to make it look more\n",
    "like the validation + test data."
   ]
  },
  {
   "cell_type": "code",
   "execution_count": null,
   "id": "6ed8f432",
   "metadata": {},
   "outputs": [],
   "source": [
    "19.What could go wrong if you use the test set to tune hyperparameters?"
   ]
  },
  {
   "cell_type": "code",
   "execution_count": null,
   "id": "99360182",
   "metadata": {},
   "outputs": [],
   "source": [
    "Ans:If you tune hyperparameters using the test set, you risk overfitting the test set, and the generalization error \n",
    "    you measure will be optimistic (you may launch a model that performs worse than you expect).\n"
   ]
  }
 ],
 "metadata": {
  "kernelspec": {
   "display_name": "Python 3 (ipykernel)",
   "language": "python",
   "name": "python3"
  },
  "language_info": {
   "codemirror_mode": {
    "name": "ipython",
    "version": 3
   },
   "file_extension": ".py",
   "mimetype": "text/x-python",
   "name": "python",
   "nbconvert_exporter": "python",
   "pygments_lexer": "ipython3",
   "version": "3.9.7"
  }
 },
 "nbformat": 4,
 "nbformat_minor": 5
}
